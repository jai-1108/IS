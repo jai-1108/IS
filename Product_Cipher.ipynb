{
  "nbformat": 4,
  "nbformat_minor": 0,
  "metadata": {
    "colab": {
      "provenance": []
    },
    "kernelspec": {
      "name": "python3",
      "display_name": "Python 3"
    },
    "language_info": {
      "name": "python"
    }
  },
  "cells": [
    {
      "cell_type": "code",
      "source": [
        "#Product Cipher\n",
        "def caesar_cipher(text,s):\n",
        "\tresult = \"\"\n",
        "\n",
        "\tfor i in range(len(text)):\n",
        "\t\tchar = text[i]\n",
        "\n",
        "\t\tif (char.isupper()):\n",
        "\t\t\tresult += chr((ord(char) + s-65) % 26 + 65)\n",
        "\n",
        "\t\telse:\n",
        "\t\t\tresult += chr((ord(char) + s - 97) % 26 + 97)\n",
        "\n",
        "\treturn result\n",
        "\n",
        "def rail_fence_encrypt(text,rails):\n",
        "  fence = [['\\n' for _ in range(len(text))]for _ in range(rails)]\n",
        "  row,direction = 0,1\n",
        "  for i in range(len(text)):\n",
        "    fence[row][i] = text[i]\n",
        "    row += direction\n",
        "    if row == rails - 1 or row == 0:\n",
        "      direction *= -1\n",
        "\n",
        "  encrypted_text = []\n",
        "  for i in range(rails):\n",
        "    for j in range(len(text)):\n",
        "      if fence[i][j] != '\\n':\n",
        "        encrypted_text += fence[i][j]\n",
        "\n",
        "  return ''.join(encrypted_text)\n",
        "\n",
        "\n",
        "def product_cipher(text, s, rails):\n",
        "\n",
        "    substituted_text = caesar_cipher(text, s)\n",
        "    permuted_text = rail_fence_encrypt(substituted_text, rails)\n",
        "    return permuted_text\n",
        "\n",
        "# Example usage:\n",
        "original_text = \"Hello, World!\"\n",
        "shift_value = 3\n",
        "rails_value = 2\n",
        "\n",
        "encrypted_text = product_cipher(original_text, shift_value, rails_value)\n",
        "print(\"Original Text:\", original_text)\n",
        "print(\"Encrypted Text:\", encrypted_text)"
      ],
      "metadata": {
        "colab": {
          "base_uri": "https://localhost:8080/"
        },
        "id": "ezKhJtb1EHo_",
        "outputId": "8ff91cc3-6c69-4ab5-d72c-4f7a8dc7a830"
      },
      "execution_count": 1,
      "outputs": [
        {
          "output_type": "stream",
          "name": "stdout",
          "text": [
            "Original Text: Hello, World!\n",
            "Encrypted Text: KorqrorhocZug\n"
          ]
        }
      ]
    },
    {
      "cell_type": "code",
      "source": [
        "def caesar_cipher_encrypt(text,key):\n",
        "  result = \"\"\n",
        "  for char in text:\n",
        "    if char.isalpha():\n",
        "      base = ord('A') if char.isupper() else ord('a')\n",
        "      result += chr((ord(char)- base + key)%26 + base)\n",
        "    else:\n",
        "      result += char\n",
        "  return result\n",
        "\n",
        "def columnar_transposition_encrypt(message,key):\n",
        "  n = len(key)\n",
        "  message = message.replace(\" \",\"\").lower()\n",
        "  message_len = len(message)\n",
        "\n",
        "  padding_len = (n - (message_len % n)) % n\n",
        "  padded_message = message + 'X' * padding_len\n",
        "\n",
        "  grid = [['X'] * n for _ in range(n)]\n",
        "  index = 0\n",
        "  for row in range(n):\n",
        "    for col in range(n):\n",
        "      if index < len(padded_message):\n",
        "        grid[row][col] = padded_message[index]\n",
        "        index += 1\n",
        "\n",
        "  for i in range(n):\n",
        "    print(grid[i])\n",
        "\n",
        "  encrypted_text = \"\"\n",
        "  for col in key:\n",
        "    for row in range(n):\n",
        "        encrypted_text += grid[row][col - 1]\n",
        "\n",
        "  return encrypted_text\n",
        "\n",
        "def product_cipher(message,caesar_key,transposition_key):\n",
        "  substitution = caesar_cipher_encrypt(message,caesar_key)\n",
        "  final = columnar_transposition_encrypt(substitution,transposition_key)\n",
        "  return final\n",
        "\n",
        "print(product_cipher(\"Hello World this is Vineet\",3,[4,1,2,3,5]))"
      ],
      "metadata": {
        "colab": {
          "base_uri": "https://localhost:8080/"
        },
        "id": "527ynVa5b6O9",
        "outputId": "17b57e4f-e028-4ee9-b6df-744259331e40"
      },
      "execution_count": 2,
      "outputs": [
        {
          "output_type": "stream",
          "name": "stdout",
          "text": [
            "['k', 'h', 'o', 'o', 'r']\n",
            "['z', 'r', 'u', 'o', 'g']\n",
            "['w', 'k', 'l', 'v', 'l']\n",
            "['v', 'y', 'l', 'q', 'h']\n",
            "['h', 'w', 'X', 'X', 'X']\n",
            "oovqXkzwvhhrkywoullXrglhX\n"
          ]
        }
      ]
    },
    {
      "cell_type": "code",
      "source": [],
      "metadata": {
        "id": "sf2sxFavvek8"
      },
      "execution_count": null,
      "outputs": []
    }
  ]
}
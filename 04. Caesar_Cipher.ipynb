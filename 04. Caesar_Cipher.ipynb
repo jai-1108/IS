{
  "nbformat": 4,
  "nbformat_minor": 0,
  "metadata": {
    "colab": {
      "provenance": []
    },
    "kernelspec": {
      "name": "python3",
      "display_name": "Python 3"
    },
    "language_info": {
      "name": "python"
    }
  },
  "cells": [
    {
      "cell_type": "code",
      "execution_count": null,
      "metadata": {
        "colab": {
          "base_uri": "https://localhost:8080/"
        },
        "id": "4cU1Ey1Zcl0B",
        "outputId": "2c08bb30-b739-4ab7-9c84-d1a6816246d2"
      },
      "outputs": [
        {
          "output_type": "stream",
          "name": "stdout",
          "text": [
            "Text : Amitesh\n",
            "Shift : 4\n",
            "Cipher: Eqmxiwl\n",
            "Decrypted Cipher: Amitesh\n"
          ]
        }
      ],
      "source": [
        "def encrypt(text,s):\n",
        "\tresult = \"\"\n",
        "\n",
        "\tfor i in range(len(text)):\n",
        "\t\tchar = text[i]\n",
        "\n",
        "\t\tif (char.isupper()):\n",
        "\t\t\tresult += chr((ord(char) + s-65) % 26 + 65)\n",
        "\n",
        "\t\telse:\n",
        "\t\t\tresult += chr((ord(char) + s - 97) % 26 + 97)\n",
        "\n",
        "\treturn result\n",
        "\n",
        "text = \"Amitesh\"\n",
        "s = 4\n",
        "t = -4\n",
        "print (\"Text : \" + text)\n",
        "print (\"Shift : \" + str(s))\n",
        "encrypted_text = encrypt(text, s)\n",
        "decrypted_text = encrypt(encrypted_text, t)\n",
        "print (\"Cipher: \" + encrypted_text)\n",
        "print(\"Decrypted Cipher: \" + decrypted_text)\n"
      ]
    },
    {
      "cell_type": "code",
      "source": [
        "#Brute Force Attack\n",
        "for i in range(-26, 0):\n",
        "  ab = encrypt(encrypted_text, i)\n",
        "  print(i, \". \", ab, \"\\n\")"
      ],
      "metadata": {
        "id": "cEz__r56c2Jx",
        "colab": {
          "base_uri": "https://localhost:8080/"
        },
        "outputId": "fa229a2a-4746-4fb8-c708-f64650674f2c"
      },
      "execution_count": null,
      "outputs": [
        {
          "output_type": "stream",
          "name": "stdout",
          "text": [
            "-26 .  Eqmxiwl \n",
            "\n",
            "-25 .  Frnyjxm \n",
            "\n",
            "-24 .  Gsozkyn \n",
            "\n",
            "-23 .  Htpalzo \n",
            "\n",
            "-22 .  Iuqbmap \n",
            "\n",
            "-21 .  Jvrcnbq \n",
            "\n",
            "-20 .  Kwsdocr \n",
            "\n",
            "-19 .  Lxtepds \n",
            "\n",
            "-18 .  Myufqet \n",
            "\n",
            "-17 .  Nzvgrfu \n",
            "\n",
            "-16 .  Oawhsgv \n",
            "\n",
            "-15 .  Pbxithw \n",
            "\n",
            "-14 .  Qcyjuix \n",
            "\n",
            "-13 .  Rdzkvjy \n",
            "\n",
            "-12 .  Sealwkz \n",
            "\n",
            "-11 .  Tfbmxla \n",
            "\n",
            "-10 .  Ugcnymb \n",
            "\n",
            "-9 .  Vhdoznc \n",
            "\n",
            "-8 .  Wiepaod \n",
            "\n",
            "-7 .  Xjfqbpe \n",
            "\n",
            "-6 .  Ykgrcqf \n",
            "\n",
            "-5 .  Zlhsdrg \n",
            "\n",
            "-4 .  Amitesh \n",
            "\n",
            "-3 .  Bnjufti \n",
            "\n",
            "-2 .  Cokvguj \n",
            "\n",
            "-1 .  Dplwhvk \n",
            "\n"
          ]
        }
      ]
    },
    {
      "cell_type": "code",
      "source": [],
      "metadata": {
        "id": "0nMonD63Woct"
      },
      "execution_count": null,
      "outputs": []
    }
  ]
}
{
  "nbformat": 4,
  "nbformat_minor": 0,
  "metadata": {
    "colab": {
      "provenance": []
    },
    "kernelspec": {
      "name": "python3",
      "display_name": "Python 3"
    },
    "language_info": {
      "name": "python"
    }
  },
  "cells": [
    {
      "cell_type": "code",
      "execution_count": null,
      "metadata": {
        "colab": {
          "base_uri": "https://localhost:8080/"
        },
        "id": "HM31eKUdeCHC",
        "outputId": "0afc3c46-e3f2-458f-a42c-95ec45243b8a"
      },
      "outputs": [
        {
          "output_type": "stream",
          "name": "stdout",
          "text": [
            "Encrypted text:  Aiehmts\n",
            "Decrypted text:  Amitesh\n"
          ]
        }
      ],
      "source": [
        "def encryptRailFence(text, key):\n",
        "\n",
        "\trail = [['\\n' for i in range(len(text))]\n",
        "\t\t\t\tfor j in range(key)]\n",
        "\n",
        "\tdir_down = False\n",
        "\trow, col = 0, 0\n",
        "\n",
        "\tfor i in range(len(text)):\n",
        "\t\tif (row == 0) or (row == key - 1):\n",
        "\t\t\tdir_down = not dir_down\n",
        "\n",
        "\t\trail[row][col] = text[i]\n",
        "\t\tcol += 1\n",
        "\n",
        "\t\tif dir_down:\n",
        "\t\t\trow += 1\n",
        "\t\telse:\n",
        "\t\t\trow -= 1\n",
        "\n",
        "\tresult = []\n",
        "\tfor i in range(key):\n",
        "\t\tfor j in range(len(text)):\n",
        "\t\t\tif rail[i][j] != '\\n':\n",
        "\t\t\t\tresult.append(rail[i][j])\n",
        "\treturn(\"\" . join(result))\n",
        "\n",
        "def decryptRailFence(cipher, key):\n",
        "\n",
        "\trail = [['\\n' for i in range(len(cipher))]\n",
        "\t\t\t\tfor j in range(key)]\n",
        "\n",
        "\tdir_down = None\n",
        "\trow, col = 0, 0\n",
        "\n",
        "\tfor i in range(len(cipher)):\n",
        "\t\tif row == 0:\n",
        "\t\t\tdir_down = True\n",
        "\t\tif row == key - 1:\n",
        "\t\t\tdir_down = False\n",
        "\n",
        "\t\trail[row][col] = '*'\n",
        "\t\tcol += 1\n",
        "\n",
        "\t\tif dir_down:\n",
        "\t\t\trow += 1\n",
        "\t\telse:\n",
        "\t\t\trow -= 1\n",
        "\n",
        "\tindex = 0\n",
        "\tfor i in range(key):\n",
        "\t\tfor j in range(len(cipher)):\n",
        "\t\t\tif ((rail[i][j] == '*') and\n",
        "\t\t\t(index < len(cipher))):\n",
        "\t\t\t\trail[i][j] = cipher[index]\n",
        "\t\t\t\tindex += 1\n",
        "\n",
        "\tresult = []\n",
        "\trow, col = 0, 0\n",
        "\tfor i in range(len(cipher)):\n",
        "\n",
        "\t\tif row == 0:\n",
        "\t\t\tdir_down = True\n",
        "\t\tif row == key-1:\n",
        "\t\t\tdir_down = False\n",
        "\n",
        "\t\tif (rail[row][col] != '*'):\n",
        "\t\t\tresult.append(rail[row][col])\n",
        "\t\t\tcol += 1\n",
        "\n",
        "\t\tif dir_down:\n",
        "\t\t\trow += 1\n",
        "\t\telse:\n",
        "\t\t\trow -= 1\n",
        "\treturn(\"\".join(result))\n",
        "\n",
        "\n",
        "encrypted_text = encryptRailFence(\"Amitesh\", 2)\n",
        "print(\"Encrypted text: \", encrypted_text)\n",
        "decrypted_text = decryptRailFence(encrypted_text, 2)\n",
        "print(\"Decrypted text: \", decrypted_text)"
      ]
    },
    {
      "cell_type": "code",
      "source": [],
      "metadata": {
        "id": "7GjYZgxFevJk"
      },
      "execution_count": null,
      "outputs": []
    }
  ]
}
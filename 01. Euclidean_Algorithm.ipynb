{
  "nbformat": 4,
  "nbformat_minor": 0,
  "metadata": {
    "colab": {
      "provenance": []
    },
    "kernelspec": {
      "name": "python3",
      "display_name": "Python 3"
    },
    "language_info": {
      "name": "python"
    }
  },
  "cells": [
    {
      "cell_type": "code",
      "source": [
        "def gcd(a, b):\n",
        "    if a == 0:\n",
        "        return b\n",
        "\n",
        "    return gcd(b % a, a)\n",
        "\n",
        "print(\"Enter any two integers such that a>=b: \")\n",
        "a = int(input(\"Enter first integer: \"))\n",
        "b = int(input(\"Enter second integer: \"))\n",
        "print(\"gcd(\", a, \",\", b, \") = \", gcd(a, b))\n"
      ],
      "metadata": {
        "colab": {
          "base_uri": "https://localhost:8080/"
        },
        "id": "BpajtROFWpDm",
        "outputId": "503ff0c0-a441-4bbd-ab15-b546ced19891"
      },
      "execution_count": null,
      "outputs": [
        {
          "output_type": "stream",
          "name": "stdout",
          "text": [
            "Enter any two integers such that a>=b: \n",
            "Enter first integer: 7\n",
            "Enter second integer: 5\n",
            "gcd( 7 , 5 ) =  1\n"
          ]
        }
      ]
    },
    {
      "cell_type": "code",
      "source": [],
      "metadata": {
        "id": "5F5M8ndzXa93"
      },
      "execution_count": null,
      "outputs": []
    }
  ]
}
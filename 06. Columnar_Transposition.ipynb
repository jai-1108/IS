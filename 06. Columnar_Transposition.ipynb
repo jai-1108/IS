{
  "nbformat": 4,
  "nbformat_minor": 0,
  "metadata": {
    "colab": {
      "provenance": []
    },
    "kernelspec": {
      "name": "python3",
      "display_name": "Python 3"
    },
    "language_info": {
      "name": "python"
    }
  },
  "cells": [
    {
      "cell_type": "code",
      "execution_count": null,
      "metadata": {
        "colab": {
          "base_uri": "https://localhost:8080/"
        },
        "id": "aP75KjnkDc_k",
        "outputId": "c51296fa-ac52-4d7d-c981-e5083cf873ef"
      },
      "outputs": [
        {
          "output_type": "stream",
          "name": "stdout",
          "text": [
            "Encrypted Message: msihAet_\n",
            "Decryped Message: Amitesh\n"
          ]
        }
      ],
      "source": [
        "import math\n",
        "key = \"HACK\"\n",
        "\n",
        "def encryptMessage(msg):\n",
        "\tcipher = \"\"\n",
        "\n",
        "\tk_indx = 0\n",
        "\n",
        "\tmsg_len = float(len(msg))\n",
        "\tmsg_lst = list(msg)\n",
        "\tkey_lst = sorted(list(key))\n",
        "\n",
        "\tcol = len(key)\n",
        "\n",
        "\trow = int(math.ceil(msg_len / col))\n",
        "\n",
        "\tfill_null = int((row * col) - msg_len)\n",
        "\tmsg_lst.extend('_' * fill_null)\n",
        "\n",
        "\tmatrix = [msg_lst[i: i + col]\n",
        "\t\t\tfor i in range(0, len(msg_lst), col)]\n",
        "\n",
        "\tfor _ in range(col):\n",
        "\t\tcurr_idx = key.index(key_lst[k_indx])\n",
        "\t\tcipher += ''.join([row[curr_idx]\n",
        "\t\t\t\t\t\tfor row in matrix])\n",
        "\t\tk_indx += 1\n",
        "\n",
        "\treturn cipher\n",
        "\n",
        "def decryptMessage(cipher):\n",
        "\tmsg = \"\"\n",
        "\n",
        "\tk_indx = 0\n",
        "\n",
        "\tmsg_indx = 0\n",
        "\tmsg_len = float(len(cipher))\n",
        "\tmsg_lst = list(cipher)\n",
        "\n",
        "\tcol = len(key)\n",
        "\n",
        "\trow = int(math.ceil(msg_len / col))\n",
        "\n",
        "\tkey_lst = sorted(list(key))\n",
        "\n",
        "\tdec_cipher = []\n",
        "\tfor _ in range(row):\n",
        "\t\tdec_cipher += [[None] * col]\n",
        "\n",
        "\tfor _ in range(col):\n",
        "\t\tcurr_idx = key.index(key_lst[k_indx])\n",
        "\n",
        "\t\tfor j in range(row):\n",
        "\t\t\tdec_cipher[j][curr_idx] = msg_lst[msg_indx]\n",
        "\t\t\tmsg_indx += 1\n",
        "\t\tk_indx += 1\n",
        "\n",
        "\ttry:\n",
        "\t\tmsg = ''.join(sum(dec_cipher, []))\n",
        "\texcept TypeError:\n",
        "\t\traise TypeError(\"This program cannot\",\n",
        "\t\t\t\t\t\t\"handle repeating words.\")\n",
        "\n",
        "\tnull_count = msg.count('_')\n",
        "\n",
        "\tif null_count > 0:\n",
        "\t\treturn msg[: -null_count]\n",
        "\n",
        "\treturn msg\n",
        "\n",
        "msg = \"Amitesh\"\n",
        "cipher = encryptMessage(msg)\n",
        "print(\"Encrypted Message: {}\".format(cipher))\n",
        "print(\"Decryped Message: {}\".format(decryptMessage(cipher)))"
      ]
    },
    {
      "cell_type": "code",
      "source": [],
      "metadata": {
        "id": "quhY4VcYD0i-"
      },
      "execution_count": null,
      "outputs": []
    }
  ]
}
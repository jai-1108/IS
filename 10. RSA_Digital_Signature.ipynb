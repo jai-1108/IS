{
  "nbformat": 4,
  "nbformat_minor": 0,
  "metadata": {
    "colab": {
      "provenance": []
    },
    "kernelspec": {
      "name": "python3",
      "display_name": "Python 3"
    },
    "language_info": {
      "name": "python"
    }
  },
  "cells": [
    {
      "cell_type": "code",
      "execution_count": null,
      "metadata": {
        "colab": {
          "base_uri": "https://localhost:8080/"
        },
        "id": "9NPi1drrMWmF",
        "outputId": "28e75d70-6406-4229-c668-b1f38014f8a8"
      },
      "outputs": [
        {
          "output_type": "stream",
          "name": "stdout",
          "text": [
            "Enter a prime integer (p): 17\n",
            "Enter another prime integer (q): 19\n",
            "Enter the public exponent (e): 5\n",
            "Decryption key (d) is: 173\n",
            "Enter the message to be sent: 56\n",
            "As M = M1, Accept the message sent by Alice\n"
          ]
        }
      ],
      "source": [
        "def euclid(m, n):\n",
        "    if n == 0:\n",
        "        return m\n",
        "    else:\n",
        "        r = m % n\n",
        "        return euclid(n, r)\n",
        "\n",
        "def exteuclid(a, b):\n",
        "    r1 = a\n",
        "    r2 = b\n",
        "    s1 = 1\n",
        "    s2 = 0\n",
        "    t1 = 0\n",
        "    t2 = 1\n",
        "\n",
        "    while r2 > 0:\n",
        "        q = r1 // r2\n",
        "        r = r1 - q * r2\n",
        "        r1 = r2\n",
        "        r2 = r\n",
        "        s = s1 - q * s2\n",
        "        s1 = s2\n",
        "        s2 = s\n",
        "        t = t1 - q * t2\n",
        "        t1 = t2\n",
        "        t2 = t\n",
        "\n",
        "    if t1 < 0:\n",
        "        t1 = t1 % a\n",
        "\n",
        "    return r1, t1\n",
        "\n",
        "p = int(input(\"Enter a prime integer (p): \"))\n",
        "q = int(input(\"Enter another prime integer (q): \"))\n",
        "n = p * q\n",
        "Pn = (p - 1) * (q - 1)\n",
        "\n",
        "key = []\n",
        "\n",
        "for i in range(2, Pn):\n",
        "    gcd = euclid(Pn, i)\n",
        "    if gcd == 1:\n",
        "        key.append(i)\n",
        "\n",
        "e = int(input(\"Enter the public exponent (e): \"))\n",
        "\n",
        "r, d = exteuclid(Pn, e)\n",
        "if r == 1:\n",
        "    d = int(d)\n",
        "    print(\"Decryption key (d) is:\", d)\n",
        "else:\n",
        "    print(\"Multiplicative inverse for the given encryption key does not exist. Choose a different encryption key \")\n",
        "\n",
        "M = int(input(\"Enter the message to be sent: \"))\n",
        "\n",
        "S = (M ** d) % n\n",
        "M1 = (S ** e) % n\n",
        "\n",
        "if M == M1:\n",
        "    print(\"As M = M1, Accept the message sent by Alice\")\n",
        "else:\n",
        "    print(\"As M not equal to M1, Do not accept the message sent by Alice \")\n"
      ]
    },
    {
      "cell_type": "code",
      "source": [],
      "metadata": {
        "id": "qpViKjc2MyOK"
      },
      "execution_count": null,
      "outputs": []
    }
  ]
}
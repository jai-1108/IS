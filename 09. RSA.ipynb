{
  "nbformat": 4,
  "nbformat_minor": 0,
  "metadata": {
    "colab": {
      "provenance": []
    },
    "kernelspec": {
      "name": "python3",
      "display_name": "Python 3"
    },
    "language_info": {
      "name": "python"
    }
  },
  "cells": [
    {
      "cell_type": "code",
      "execution_count": null,
      "metadata": {
        "colab": {
          "base_uri": "https://localhost:8080/"
        },
        "id": "uDvCSVC8IFvW",
        "outputId": "9dc37704-eed7-4df2-99f4-3c19a6a31ebe"
      },
      "outputs": [
        {
          "output_type": "stream",
          "name": "stdout",
          "text": [
            "Enter a prime number (p): 17\n",
            "Enter another prime number (q): 19\n",
            "Enter the message to be encrypted (a decimal number): 7\n",
            "Encrypted data = 11\n",
            "Original Message Sent = 7\n"
          ]
        }
      ],
      "source": [
        "import math\n",
        "\n",
        "def gcd(a, h):\n",
        "    temp = 0\n",
        "    while(1):\n",
        "        temp = a % h\n",
        "        if temp == 0:\n",
        "            return h\n",
        "        a = h\n",
        "        h = temp\n",
        "\n",
        "p = int(input(\"Enter a prime number (p): \"))\n",
        "q = int(input(\"Enter another prime number (q): \"))\n",
        "msg = float(input(\"Enter the message to be encrypted (a decimal number): \"))\n",
        "\n",
        "n = p * q\n",
        "e = 2\n",
        "phi = (p - 1) * (q - 1)\n",
        "\n",
        "while e < phi:\n",
        "    if gcd(e, phi) == 1:\n",
        "        break\n",
        "    else:\n",
        "        e += 1\n",
        "\n",
        "d = pow(e, -1, phi)\n",
        "\n",
        "c = pow(int(msg), e, n)\n",
        "print(\"Encrypted data =\", c)\n",
        "\n",
        "m = pow(c, d, n)\n",
        "print(\"Original Message Sent =\", m)\n"
      ]
    },
    {
      "cell_type": "code",
      "source": [],
      "metadata": {
        "id": "0pAfDhaxLtOy"
      },
      "execution_count": null,
      "outputs": []
    }
  ]
}
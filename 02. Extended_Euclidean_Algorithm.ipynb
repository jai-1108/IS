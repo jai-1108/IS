{
  "nbformat": 4,
  "nbformat_minor": 0,
  "metadata": {
    "colab": {
      "provenance": []
    },
    "kernelspec": {
      "name": "python3",
      "display_name": "Python 3"
    },
    "language_info": {
      "name": "python"
    }
  },
  "cells": [
    {
      "cell_type": "code",
      "source": [
        "def Extended_Euclidean(a, b):\n",
        "    r1, r2 = a, b\n",
        "    s1, s2 = 1, 0\n",
        "    t1, t2 = 0, 1\n",
        "\n",
        "    while r2 > 0:\n",
        "        q = r1 // r2\n",
        "        r = r1 - q * r2\n",
        "        r1, r2 = r2, r\n",
        "        s = s1 - q * s2\n",
        "        s1, s2 = s2, s\n",
        "        t = t1 - q * t2\n",
        "        t1, t2 = t2, t\n",
        "\n",
        "    if t1 < 0:\n",
        "        t1 = t1 % a\n",
        "\n",
        "    return r1\n",
        "\n",
        "print(\"Enter two integers such that a >= b: \")\n",
        "a = int(input(\"Enter the first integer: \"))\n",
        "b = int(input(\"Enter the second integer: \"))\n",
        "g = Extended_Euclidean(a, b)\n",
        "print(\"gcd(\", a, \",\", b, \") =\", g)"
      ],
      "metadata": {
        "colab": {
          "base_uri": "https://localhost:8080/"
        },
        "id": "zdPL-JfzTLjY",
        "outputId": "995c18b3-fe79-45a4-a2f1-1fc3f2960ef6"
      },
      "execution_count": 4,
      "outputs": [
        {
          "output_type": "stream",
          "name": "stdout",
          "text": [
            "Enter two integers such that a >= b: \n",
            "Enter the first integer: 7\n",
            "Enter the second integer: 5\n",
            "gcd( 7 , 5 ) = 1\n"
          ]
        }
      ]
    },
    {
      "cell_type": "code",
      "source": [],
      "metadata": {
        "id": "J7hzwE3OTxcE"
      },
      "execution_count": null,
      "outputs": []
    }
  ]
}
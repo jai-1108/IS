{
  "nbformat": 4,
  "nbformat_minor": 0,
  "metadata": {
    "colab": {
      "provenance": []
    },
    "kernelspec": {
      "name": "python3",
      "display_name": "Python 3"
    },
    "language_info": {
      "name": "python"
    }
  },
  "cells": [
    {
      "cell_type": "code",
      "execution_count": 1,
      "metadata": {
        "colab": {
          "base_uri": "https://localhost:8080/"
        },
        "id": "OBFefhS_E_FF",
        "outputId": "3e2efae3-3f44-4a5a-9b29-3ab44ba684a1"
      },
      "outputs": [
        {
          "output_type": "stream",
          "name": "stdout",
          "text": [
            "Enter the message to encrypt: Amitesh\n",
            "Enter the key as a permutation of numbers (e.g., 2 1 4 3): 2 1 3\n",
            "\n",
            "Encrypted Message: ME ATHIS \n"
          ]
        }
      ],
      "source": [
        "def encrypt(message, key):\n",
        "    num_rows = len(key)\n",
        "\n",
        "    while len(message) % num_rows != 0:\n",
        "        message += ' '\n",
        "\n",
        "    matrix = [message[i:i+num_rows] for i in range(0, len(message), num_rows)]\n",
        "\n",
        "    ciphertext = ''\n",
        "    for col in key:\n",
        "        for row in matrix:\n",
        "            ciphertext += row[col - 1]\n",
        "\n",
        "    return ciphertext\n",
        "\n",
        "message = input(\"Enter the message to encrypt: \").upper()\n",
        "key = list(map(int, input(\"Enter the key as a permutation of numbers (e.g., 2 1 4 3): \").split()))\n",
        "\n",
        "if sorted(key) != list(range(1, len(key) + 1)):\n",
        "   print(\"Invalid key. The key must be a permutation of the numbers 1 to\", len(key))\n",
        "else:\n",
        "    ciphertext = encrypt(message, key)\n",
        "    print(\"\\nEncrypted Message:\", ciphertext)"
      ]
    },
    {
      "cell_type": "code",
      "source": [],
      "metadata": {
        "id": "QzPutQpAFKEk"
      },
      "execution_count": null,
      "outputs": []
    }
  ]
}
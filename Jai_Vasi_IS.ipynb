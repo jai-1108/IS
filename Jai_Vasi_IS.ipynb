{
  "nbformat": 4,
  "nbformat_minor": 0,
  "metadata": {
    "colab": {
      "provenance": []
    },
    "kernelspec": {
      "name": "python3",
      "display_name": "Python 3"
    },
    "language_info": {
      "name": "python"
    }
  },
  "cells": [
    {
      "cell_type": "code",
      "execution_count": 1,
      "metadata": {
        "colab": {
          "base_uri": "https://localhost:8080/"
        },
        "id": "5YuD-e4OgAKC",
        "outputId": "f1af74de-0f1f-4528-fd13-8f3e62d17ef3"
      },
      "outputs": [
        {
          "output_type": "stream",
          "name": "stdout",
          "text": [
            "Enter any two integers such that a>=b: \n",
            "Enter first integer: 20\n",
            "Enter second integer: 15\n",
            "gcd( 20 , 15 ) =  5\n"
          ]
        }
      ],
      "source": [
        "#Euclidean\n",
        "def gcd(a, b):\n",
        "    if a == 0:\n",
        "        return b\n",
        "\n",
        "    return gcd(b % a, a)\n",
        "\n",
        "print(\"Enter any two integers such that a>=b: \")\n",
        "a = int(input(\"Enter first integer: \"))\n",
        "b = int(input(\"Enter second integer: \"))\n",
        "print(\"gcd(\", a, \",\", b, \") = \", gcd(a, b))"
      ]
    },
    {
      "cell_type": "code",
      "source": [
        "#Extended euclidean\n",
        "def extended_euclidean(a, b):\n",
        "    if a == 0:\n",
        "        return b, 0, 1\n",
        "    else:\n",
        "        g, x, y = extended_euclidean(b % a, a)\n",
        "        return g, y - (b // a) * x, x\n",
        "\n",
        "a = int(input(\"Enter first number: \"))\n",
        "b = int(input(\"Enter second number: \"))\n",
        "\n",
        "g, x, y = extended_euclidean(a, b)\n",
        "print(\"gcd(\", a, \",\", b, \") = \", g)\n",
        "print(f\"Coeffecients are: {x} and {y}\")"
      ],
      "metadata": {
        "colab": {
          "base_uri": "https://localhost:8080/"
        },
        "id": "bzNfodkSiXjq",
        "outputId": "94573125-5bde-48da-fec9-2802d122f8fe"
      },
      "execution_count": 7,
      "outputs": [
        {
          "output_type": "stream",
          "name": "stdout",
          "text": [
            "Enter first number: 20\n",
            "Enter second number: 15\n",
            "gcd( 20 , 15 ) =  5\n",
            "Coeffecients are: 1 and -1\n"
          ]
        }
      ]
    },
    {
      "cell_type": "code",
      "source": [
        "#Caeser cipher\n",
        "def encrypt(text,s):\n",
        "\tresult = \"\"\n",
        "\n",
        "\tfor i in range(len(text)):\n",
        "\t\tchar = text[i]\n",
        "\n",
        "\t\tif (char.isupper()):\n",
        "\t\t\tresult += chr((ord(char) + s-65) % 26 + 65)\n",
        "\n",
        "\t\telse:\n",
        "\t\t\tresult += chr((ord(char) + s - 97) % 26 + 97)\n",
        "\n",
        "\treturn result\n",
        "\n",
        "text = \"Attack\"\n",
        "s = 3\n",
        "t = -3\n",
        "print (\"Text : \" + text)\n",
        "print (\"Shift : \" + str(s))\n",
        "encrypted_text = encrypt(text, s)\n",
        "decrypted_text = encrypt(encrypted_text, t)\n",
        "print (\"Cipher: \" + encrypted_text)\n",
        "print(\"Decrypted Cipher: \" + decrypted_text)"
      ],
      "metadata": {
        "colab": {
          "base_uri": "https://localhost:8080/"
        },
        "id": "BMzP3nEGi7J3",
        "outputId": "36296a5e-f842-4d2b-e82b-8159dc765e80"
      },
      "execution_count": 10,
      "outputs": [
        {
          "output_type": "stream",
          "name": "stdout",
          "text": [
            "Text : Attack\n",
            "Shift : 3\n",
            "Cipher: Dwwdfn\n",
            "Decrypted Cipher: Attack\n"
          ]
        }
      ]
    },
    {
      "cell_type": "code",
      "source": [
        "#Brute Force Caeser Cipher\n",
        "def encrypt(text,s):\n",
        "\tresult = \"\"\n",
        "\n",
        "\tfor i in range(len(text)):\n",
        "\t\tchar = text[i]\n",
        "\n",
        "\t\tif (char.isupper()):\n",
        "\t\t\tresult += chr((ord(char) + s-65) % 26 + 65)\n",
        "\n",
        "\t\telse:\n",
        "\t\t\tresult += chr((ord(char) + s - 97) % 26 + 97)\n",
        "\n",
        "\treturn result\n",
        "\n",
        "text = \"Attack\"\n",
        "s = 3\n",
        "t = -3\n",
        "encrypted_text = encrypt(text, s)\n",
        "decrypted_text = encrypt(encrypted_text, t)\n",
        "#Brute Force Caeser Cipher\n",
        "for i in range(-26, 0):\n",
        "  ab = encrypt(encrypted_text, i)\n",
        "  print(i, \". \", ab, \"\\n\")"
      ],
      "metadata": {
        "colab": {
          "base_uri": "https://localhost:8080/"
        },
        "id": "XhyLsdjl4tgD",
        "outputId": "10a46ce3-c43b-4d4f-ba99-f439e223035f"
      },
      "execution_count": 16,
      "outputs": [
        {
          "output_type": "stream",
          "name": "stdout",
          "text": [
            "-26 .  Dwwdfn \n",
            "\n",
            "-25 .  Exxego \n",
            "\n",
            "-24 .  Fyyfhp \n",
            "\n",
            "-23 .  Gzzgiq \n",
            "\n",
            "-22 .  Haahjr \n",
            "\n",
            "-21 .  Ibbiks \n",
            "\n",
            "-20 .  Jccjlt \n",
            "\n",
            "-19 .  Kddkmu \n",
            "\n",
            "-18 .  Leelnv \n",
            "\n",
            "-17 .  Mffmow \n",
            "\n",
            "-16 .  Nggnpx \n",
            "\n",
            "-15 .  Ohhoqy \n",
            "\n",
            "-14 .  Piiprz \n",
            "\n",
            "-13 .  Qjjqsa \n",
            "\n",
            "-12 .  Rkkrtb \n",
            "\n",
            "-11 .  Sllsuc \n",
            "\n",
            "-10 .  Tmmtvd \n",
            "\n",
            "-9 .  Unnuwe \n",
            "\n",
            "-8 .  Voovxf \n",
            "\n",
            "-7 .  Wppwyg \n",
            "\n",
            "-6 .  Xqqxzh \n",
            "\n",
            "-5 .  Yrryai \n",
            "\n",
            "-4 .  Zsszbj \n",
            "\n",
            "-3 .  Attack \n",
            "\n",
            "-2 .  Buubdl \n",
            "\n",
            "-1 .  Cvvcem \n",
            "\n"
          ]
        }
      ]
    },
    {
      "cell_type": "code",
      "source": [
        "#vernam cipher\n",
        "import random\n",
        "\n",
        "def generate_key(plaintext_length):\n",
        "\tkey = ''.join(random.choice('ABCDEFGHIJKLMNOPQRSTUVWXYZ') for _ in range(plaintext_length))\n",
        "\treturn key\n",
        "\n",
        "def encrypt(plaintext, key):\n",
        "\tciphertext = ''.join(chr(ord(p) ^ ord(k)) for p, k in zip(plaintext, key))\n",
        "\treturn ciphertext\n",
        "\n",
        "def decrypt(ciphertext, key):\n",
        "\tdecrypted_text = ''.join(chr(ord(c) ^ ord(k)) for c, k in zip(ciphertext, key))\n",
        "\treturn decrypted_text\n",
        "\n",
        "if __name__ == \"__main__\":\n",
        "\tplaintext = \"Amitesh\"\n",
        "\tkey = generate_key(len(plaintext))\n",
        "\n",
        "\tprint(\"Plaintext:\", plaintext)\n",
        "\tprint(\"Key:\", key)\n",
        "\n",
        "\tciphertext = encrypt(plaintext, key)\n",
        "\tprint(\"Ciphertext:\", ciphertext)\n",
        "\n",
        "\tdecrypted_text = decrypt(ciphertext, key)\n",
        "\tprint(\"Decrypted Text:\", decrypted_text)"
      ],
      "metadata": {
        "colab": {
          "base_uri": "https://localhost:8080/"
        },
        "id": "rT96nOoe5U-h",
        "outputId": "085169c9-6eb7-4213-9703-50ba805f835a"
      },
      "execution_count": 17,
      "outputs": [
        {
          "output_type": "stream",
          "name": "stdout",
          "text": [
            "Plaintext: Amitesh\n",
            "Key: BPPVMXT\n",
            "Ciphertext: \u0003=9\"(+<\n",
            "Decrypted Text: Amitesh\n"
          ]
        }
      ]
    },
    {
      "cell_type": "code",
      "source": [
        "def rail_fence_encrypt(text,rails):\n",
        "  fence = [['\\n' for _ in range(len(text))]for _ in range(rails)]\n",
        "  row,direction = 0,1\n",
        "  for i in range(len(text)):\n",
        "    fence[row][i] = text[i]\n",
        "    row += direction\n",
        "    if row == rails - 1 or row == 0:\n",
        "      direction *= -1\n",
        "\n",
        "  encrypted_text = []\n",
        "  for i in range(rails):\n",
        "    for j in range(len(text)):\n",
        "      if fence[i][j] != '\\n':\n",
        "        encrypted_text += fence[i][j]\n",
        "\n",
        "  return ''.join(encrypted_text)\n",
        "\n",
        "\n",
        "def rail_fence_decrypt(text,rails):\n",
        "  fence = [['\\n' for _ in range(len(text))]for _ in range(rails)]\n",
        "  row,direction = 0,1\n",
        "  for i in range(len(text)):\n",
        "    fence[row][i] = '*'\n",
        "    row += direction\n",
        "    if row == rails - 1 or row == 0:\n",
        "      direction *= -1\n",
        "\n",
        "  index = 0\n",
        "  for i in range(rails):\n",
        "    for j in range(len(text)):\n",
        "      if fence[i][j] == '*' and index < len(text):\n",
        "        fence[i][j] = text[index]\n",
        "        index += 1\n",
        "\n",
        "  decrypted_text = ''.join(fence[i][j] for j in range(len(text)) for i in range(rails) if fence[i][j] != '\\n')\n",
        "  return decrypted_text\n",
        "\n",
        "encrypted_text = rail_fence_encrypt(\"Amitesh\", 2)\n",
        "print(\"Encrypted text: \", encrypted_text)\n",
        "decrypted_text = rail_fence_decrypt(encrypted_text, 2)\n",
        "print(\"Decrypted text: \", decrypted_text)"
      ],
      "metadata": {
        "colab": {
          "base_uri": "https://localhost:8080/"
        },
        "id": "VFhV4ukAM-Pk",
        "outputId": "7b238f0e-4a68-45e9-8e03-7df317026f7b"
      },
      "execution_count": 18,
      "outputs": [
        {
          "output_type": "stream",
          "name": "stdout",
          "text": [
            "Encrypted text:  Aiehmts\n",
            "Decrypted text:  Amitesh\n"
          ]
        }
      ]
    },
    {
      "cell_type": "code",
      "source": [
        "def playfair_cipher(plaintext, key):\n",
        "    alphabet = 'abcdefghiklmnopqrstuvwxyz'\n",
        "    key = key.lower().replace('', '').replace('j', 'i')\n",
        "    key_square = ''\n",
        "    for letter in key + alphabet:\n",
        "        if letter not in key_square:\n",
        "            key_square += letter\n",
        "\n",
        "    print(\"Key Square:\")\n",
        "    for i in range(0, len(key_square), 5):\n",
        "        print(' '.join(key_square[i:i + 5]))\n",
        "\n",
        "    plaintext = plaintext.lower().replace(' ', '').replace('j', 'i')\n",
        "    if len(plaintext) % 2 == 1:\n",
        "        plaintext += 'x'\n",
        "    digraphs = [plaintext[i:i + 2] for i in range(0, len(plaintext), 2)]\n",
        "\n",
        "    def encrypt(digraph):\n",
        "        a, b = digraph\n",
        "        row_a, col_a = divmod(key_square.index(a), 5)\n",
        "        row_b, col_b = divmod(key_square.index(b), 5)\n",
        "        if row_a == row_b:\n",
        "            col_a = (col_a + 1) % 5\n",
        "            col_b = (col_b + 1) % 5\n",
        "        elif col_a == col_b:\n",
        "            row_a = (row_a + 1) % 5\n",
        "            row_b = (row_b + 1) % 5\n",
        "        else:\n",
        "            col_a, col_b = col_b, col_a\n",
        "        return key_square[row_a * 5 + col_a] + key_square[row_b * 5 + col_b]\n",
        "\n",
        "    result = ''\n",
        "    for digraph in digraphs:\n",
        "        result += encrypt(digraph)\n",
        "    return result\n",
        "\n",
        "plaintext = 'attack'\n",
        "key = 'monarchy'\n",
        "ciphertext = playfair_cipher(plaintext, key)\n",
        "print(\"\\nEncrypted Message:\", ciphertext)"
      ],
      "metadata": {
        "colab": {
          "base_uri": "https://localhost:8080/"
        },
        "id": "v1JxMp92M--K",
        "outputId": "d2b85ea4-4fb8-4b9d-d64d-6ad93ae50ad6"
      },
      "execution_count": 19,
      "outputs": [
        {
          "output_type": "stream",
          "name": "stdout",
          "text": [
            "Key Square:\n",
            "m o n a r\n",
            "c h y b d\n",
            "e f g i k\n",
            "l p q s t\n",
            "u v w x z\n",
            "\n",
            "Encrypted Message: rssrde\n"
          ]
        }
      ]
    },
    {
      "cell_type": "code",
      "source": [
        "def row_transposition_encrypt(message,key):\n",
        "  n = len(key)\n",
        "  message = message.replace(\" \",\"\").lower()\n",
        "  message_len = len(message)\n",
        "\n",
        "  padding_len = (n - (message_len % n)) % n\n",
        "  padded_message = message + 'X' * padding_len\n",
        "\n",
        "  grid = [['X'] * n for _ in range(n)]\n",
        "  index = 0\n",
        "  for row in range(n):\n",
        "    for col in range(n):\n",
        "      if index < len(padded_message):\n",
        "        grid[row][col] = padded_message[index]\n",
        "        index += 1\n",
        "\n",
        "  for i in range(n):\n",
        "    print(grid[i])\n",
        "\n",
        "  encrypted_text = \"\"\n",
        "  for row in key:\n",
        "    for col in range(n):\n",
        "        encrypted_text += grid[row - 1][col]\n",
        "\n",
        "\n",
        "message = input(\"Enter the message to encrypt: \").upper()\n",
        "key = list(map(int, input(\"Enter the key as a permutation of numbers (e.g., 2 1 4 3): \").split()))\n",
        "print(\"\\nEncrypted Text = \",encrypted_text)\n"
      ],
      "metadata": {
        "colab": {
          "base_uri": "https://localhost:8080/"
        },
        "id": "d35o23Ale0nY",
        "outputId": "5e12cb66-3032-470b-9e5c-b8f42c79e4ec"
      },
      "execution_count": 29,
      "outputs": [
        {
          "output_type": "stream",
          "name": "stdout",
          "text": [
            "Enter the message to encrypt: Amitesh\n",
            "Enter the key as a permutation of numbers (e.g., 2 1 4 3): 2 1 3\n",
            "\n",
            "Encrypted Text =  Aiehmts\n"
          ]
        }
      ]
    },
    {
      "cell_type": "code",
      "source": [
        "def columnar_transposition_encrypt(message,key):\n",
        "  n = len(key)\n",
        "  message = message.replace(\" \",\"\").lower()\n",
        "  message_len = len(message)\n",
        "\n",
        "  padding_len = (n - (message_len % n)) % n\n",
        "  padded_message = message + 'X' * padding_len\n",
        "\n",
        "  grid = [['X'] * n for _ in range(n)]\n",
        "  index = 0\n",
        "  for row in range(n):\n",
        "    for col in range(n):\n",
        "      if index < len(padded_message):\n",
        "        grid[row][col] = padded_message[index]\n",
        "        index += 1\n",
        "\n",
        "  for i in range(n):\n",
        "    print(grid[i])\n",
        "\n",
        "  encrypted_text = \"\"\n",
        "  for col in key:\n",
        "    for row in range(n):\n",
        "        encrypted_text += grid[row][col - 1]\n",
        "\n",
        "  print(\"\\nEncrypted Text = \",encrypted_text)\n",
        "\n",
        "message = input(\"Enter the message to encrypt: \").upper()\n",
        "key = list(map(int, input(\"Enter the key as a permutation of numbers (e.g., 2 1 4 3): \").split()))\n",
        "print(\"\\nEncrypted Text = \",encrypted_text)\n",
        "\n"
      ],
      "metadata": {
        "colab": {
          "base_uri": "https://localhost:8080/"
        },
        "id": "z8LcMr0Th1wu",
        "outputId": "ef80b876-05f0-4932-e900-1d36b1a0ede7"
      },
      "execution_count": 30,
      "outputs": [
        {
          "output_type": "stream",
          "name": "stdout",
          "text": [
            "Enter the message to encrypt: Amitesh\n",
            "Enter the key as a permutation of numbers (e.g., 2 1 4 3): 2 1 3\n",
            "\n",
            "Encrypted Text =  Aiehmts\n"
          ]
        }
      ]
    },
    {
      "cell_type": "code",
      "source": [
        "#Product Cipher\n",
        "def caesar_cipher(text,s):\n",
        "\tresult = \"\"\n",
        "\n",
        "\tfor i in range(len(text)):\n",
        "\t\tchar = text[i]\n",
        "\n",
        "\t\tif (char.isupper()):\n",
        "\t\t\tresult += chr((ord(char) + s-65) % 26 + 65)\n",
        "\n",
        "\t\telse:\n",
        "\t\t\tresult += chr((ord(char) + s - 97) % 26 + 97)\n",
        "\n",
        "\treturn result\n",
        "\n",
        "def rail_fence_encrypt(text,rails):\n",
        "  fence = [['\\n' for _ in range(len(text))]for _ in range(rails)]\n",
        "  row,direction = 0,1\n",
        "  for i in range(len(text)):\n",
        "    fence[row][i] = text[i]\n",
        "    row += direction\n",
        "    if row == rails - 1 or row == 0:\n",
        "      direction *= -1\n",
        "\n",
        "  encrypted_text = []\n",
        "  for i in range(rails):\n",
        "    for j in range(len(text)):\n",
        "      if fence[i][j] != '\\n':\n",
        "        encrypted_text += fence[i][j]\n",
        "\n",
        "  return ''.join(encrypted_text)\n",
        "\n",
        "\n",
        "def product_cipher(text, s, rails):\n",
        "\n",
        "    substituted_text = caesar_cipher(text, s)\n",
        "    permuted_text = rail_fence_encrypt(substituted_text, rails)\n",
        "    return permuted_text\n",
        "\n",
        "# Example usage:\n",
        "original_text = \"Hello, World!\"\n",
        "shift_value = 3\n",
        "rails_value = 2\n",
        "\n",
        "encrypted_text = product_cipher(original_text, shift_value, rails_value)\n",
        "print(\"Original Text:\", original_text)\n",
        "print(\"Encrypted Text:\", encrypted_text)"
      ],
      "metadata": {
        "colab": {
          "base_uri": "https://localhost:8080/"
        },
        "id": "yq0ZovgdmkNE",
        "outputId": "adc2b34d-fa93-413f-c414-28e87288faaa"
      },
      "execution_count": 4,
      "outputs": [
        {
          "output_type": "stream",
          "name": "stdout",
          "text": [
            "Original Text: Hello, World!\n",
            "Encrypted Text: KorqrorhocZug\n"
          ]
        }
      ]
    },
    {
      "cell_type": "code",
      "source": [
        "#RSA\n",
        "import math\n",
        "\n",
        "def gcd(a, h):\n",
        "    temp = 0\n",
        "    while(1):\n",
        "        temp = a % h\n",
        "        if temp == 0:\n",
        "            return h\n",
        "        a = h\n",
        "        h = temp\n",
        "\n",
        "p = int(input(\"Enter a prime number (p): \"))\n",
        "q = int(input(\"Enter another prime number (q): \"))\n",
        "msg = float(input(\"Enter the message to be encrypted (a decimal number): \"))\n",
        "\n",
        "n = p * q\n",
        "e = 2\n",
        "phi = (p - 1) * (q - 1)\n",
        "\n",
        "while e < phi:\n",
        "    if gcd(e, phi) == 1:\n",
        "        break\n",
        "    else:\n",
        "        e += 1\n",
        "\n",
        "d = pow(e, -1, phi)\n",
        "\n",
        "c = pow(int(msg), e, n)\n",
        "print(\"Encrypted data =\", c)\n",
        "\n",
        "m = pow(c, d, n)\n",
        "print(\"Original Message Sent =\", m)\n"
      ],
      "metadata": {
        "colab": {
          "base_uri": "https://localhost:8080/"
        },
        "id": "Ni01iyvCpmrq",
        "outputId": "b28d069c-d9c6-4c3a-c5ec-dbd02f20efff"
      },
      "execution_count": 7,
      "outputs": [
        {
          "output_type": "stream",
          "name": "stdout",
          "text": [
            "Enter a prime number (p): 17 \n",
            "Enter another prime number (q): 19\n",
            "Enter the message to be encrypted (a decimal number): 7\n",
            "Encrypted data = 11\n",
            "Original Message Sent = 7\n"
          ]
        }
      ]
    },
    {
      "cell_type": "code",
      "source": [
        "def euclid(m, n):\n",
        "    if n == 0:\n",
        "        return m\n",
        "    else:\n",
        "        r = m % n\n",
        "        return euclid(n, r)\n",
        "\n",
        "def exteuclid(a, b):\n",
        "    r1 = a\n",
        "    r2 = b\n",
        "    s1 = 1\n",
        "    s2 = 0\n",
        "    t1 = 0\n",
        "    t2 = 1\n",
        "\n",
        "    while r2 > 0:\n",
        "        q = r1 // r2\n",
        "        r = r1 - q * r2\n",
        "        r1 = r2\n",
        "        r2 = r\n",
        "        s = s1 - q * s2\n",
        "        s1 = s2\n",
        "        s2 = s\n",
        "        t = t1 - q * t2\n",
        "        t1 = t2\n",
        "        t2 = t\n",
        "\n",
        "    if t1 < 0:\n",
        "        t1 = t1 % a\n",
        "\n",
        "    return r1, t1\n",
        "\n",
        "p = int(input(\"Enter a prime integer (p): \"))\n",
        "q = int(input(\"Enter another prime integer (q): \"))\n",
        "n = p * q\n",
        "Pn = (p - 1) * (q - 1)\n",
        "\n",
        "key = []\n",
        "\n",
        "for i in range(2, Pn):\n",
        "    gcd = euclid(Pn, i)\n",
        "    if gcd == 1:\n",
        "        key.append(i)\n",
        "\n",
        "e = int(input(\"Enter the public exponent (e): \"))\n",
        "\n",
        "r, d = exteuclid(Pn, e)\n",
        "if r == 1:\n",
        "    d = int(d)\n",
        "    print(\"Decryption key (d) is:\", d)\n",
        "else:\n",
        "    print(\"Multiplicative inverse for the given encryption key does not exist. Choose a different encryption key \")\n",
        "\n",
        "M = int(input(\"Enter the message to be sent: \"))\n",
        "\n",
        "S = (M ** d) % n\n",
        "M1 = (S ** e) % n\n",
        "\n",
        "if M == M1:\n",
        "    print(\"As M = M1, Accept the message sent by Alice\")\n",
        "else:\n",
        "    print(\"As M not equal to M1, Do not accept the message sent by Alice \")"
      ],
      "metadata": {
        "colab": {
          "base_uri": "https://localhost:8080/"
        },
        "id": "CUd4Pa43uotx",
        "outputId": "f98a04c2-d82b-4fb5-e972-fbd6fcc9e53c"
      },
      "execution_count": 10,
      "outputs": [
        {
          "output_type": "stream",
          "name": "stdout",
          "text": [
            "Enter a prime integer (p): 17\n",
            "Enter another prime integer (q): 19\n",
            "Enter the public exponent (e): 5\n",
            "Decryption key (d) is: 173\n",
            "Enter the message to be sent: 56\n",
            "As M = M1, Accept the message sent by Alice\n"
          ]
        }
      ]
    },
    {
      "cell_type": "code",
      "source": [
        "#diffie hillman\n",
        "def prime_checker(p):\n",
        "\n",
        "\tif p < 1:\n",
        "\t\treturn -1\n",
        "\telif p > 1:\n",
        "\t\tif p == 2:\n",
        "\t\t\treturn 1\n",
        "\t\tfor i in range(2, p):\n",
        "\t\t\tif p % i == 0:\n",
        "\t\t\t\treturn -1\n",
        "\t\t\treturn 1\n",
        "\n",
        "\n",
        "def primitive_check(g, p, L):\n",
        "\n",
        "\tfor i in range(1, p):\n",
        "\t\tL.append(pow(g, i) % p)\n",
        "\tfor i in range(1, p):\n",
        "\t\tif L.count(i) > 1:\n",
        "\t\t\tL.clear()\n",
        "\t\t\treturn -1\n",
        "\t\treturn 1\n",
        "\n",
        "\n",
        "l = []\n",
        "while 1:\n",
        "\tP = int(input(\"Enter P : \"))\n",
        "\tif prime_checker(P) == -1:\n",
        "\t\tprint(\"Number Is Not Prime, Please Enter Again!\")\n",
        "\t\tcontinue\n",
        "\tbreak\n",
        "\n",
        "while 1:\n",
        "\tG = int(input(f\"Enter The Primitive Root Of {P} : \"))\n",
        "\tif primitive_check(G, P, l) == -1:\n",
        "\t\tprint(f\"Number Is Not A Primitive Root Of {P}, Please Try Again!\")\n",
        "\t\tcontinue\n",
        "\tbreak\n",
        "\n",
        "x1, x2 = int(input(\"Enter The Private Key Of User 1 : \")), int(\n",
        "\tinput(\"Enter The Private Key Of User 2 : \"))\n",
        "while 1:\n",
        "\tif x1 >= P or x2 >= P:\n",
        "\t\tprint(f\"Private Key Of Both The Users Should Be Less Than {P}!\")\n",
        "\t\tcontinue\n",
        "\tbreak\n",
        "\n",
        "y1, y2 = pow(G, x1) % P, pow(G, x2) % P\n",
        "\n",
        "k1, k2 = pow(y2, x1) % P, pow(y1, x2) % P\n",
        "\n",
        "print(f\"\\nSecret Key For User 1 Is {k1}\\nSecret Key For User 2 Is {k2}\\n\")\n",
        "\n",
        "if k1 == k2:\n",
        "\tprint(\"Keys Have Been Exchanged Successfully\")\n",
        "else:\n",
        "\tprint(\"Keys Have Not Been Exchanged Successfully\")"
      ],
      "metadata": {
        "colab": {
          "base_uri": "https://localhost:8080/"
        },
        "id": "B6pLZW3kstjz",
        "outputId": "9788ae9b-be93-434f-bfaa-4fff2982d49b"
      },
      "execution_count": 8,
      "outputs": [
        {
          "output_type": "stream",
          "name": "stdout",
          "text": [
            "Enter P : 23\n",
            "Enter The Primitive Root Of 23 : 5\n",
            "Enter The Private Key Of User 1 : 6\n",
            "Enter The Private Key Of User 2 : 15\n",
            "\n",
            "Secret Key For User 1 Is 2\n",
            "Secret Key For User 2 Is 2\n",
            "\n",
            "Keys Have Been Exchanged Successfully\n"
          ]
        }
      ]
    },
    {
      "cell_type": "code",
      "source": [
        "#man in the middle\n",
        "import random\n",
        "\n",
        "p = int(input('Enter a prime number : '))\n",
        "g = int(input('Enter a number : '))\n",
        "\n",
        "\n",
        "class A:\n",
        "\tdef __init__(self):\n",
        "\t\tself.n = random.randint(1, p)\n",
        "\n",
        "\tdef publish(self):\n",
        "\t\treturn (g**self.n)%p\n",
        "\n",
        "\tdef compute_secret(self, gb):\n",
        "\t\treturn (gb**self.n)%p\n",
        "\n",
        "\n",
        "class B:\n",
        "\tdef __init__(self):\n",
        "\t\tself.a = random.randint(1, p)\n",
        "\t\tself.b = random.randint(1, p)\n",
        "\t\tself.arr = [self.a,self.b]\n",
        "\n",
        "\tdef publish(self, i):\n",
        "\t\treturn (g**self.arr[i])%p\n",
        "\n",
        "\tdef compute_secret(self, ga, i):\n",
        "\t\treturn (ga**self.arr[i])%p\n",
        "\n",
        "\n",
        "alice = A()\n",
        "bob = A()\n",
        "eve = B()\n",
        "\n",
        "print(f'Alice selected (a) : {alice.n}')\n",
        "print(f'Bob selected (b) : {bob.n}')\n",
        "print(f'Eve selected private number for Alice (c) : {eve.a}')\n",
        "print(f'Eve selected private number for Bob (d) : {eve.b}')\n",
        "\n",
        "ga = alice.publish()\n",
        "gb = bob.publish()\n",
        "gea = eve.publish(0)\n",
        "geb = eve.publish(1)\n",
        "print(f'Alice published (ga): {ga}')\n",
        "print(f'Bob published (gb): {gb}')\n",
        "print(f'Eve published value for Alice (gc): {gea}')\n",
        "print(f'Eve published value for Bob (gd): {geb}')\n",
        "\n",
        "sa = alice.compute_secret(gea)\n",
        "sea = eve.compute_secret(ga,0)\n",
        "sb = bob.compute_secret(geb)\n",
        "seb = eve.compute_secret(gb,1)\n",
        "print(f'Alice computed (S1) : {sa}')\n",
        "print(f'Eve computed key for Alice (S1) : {sea}')\n",
        "print(f'Bob computed (S2) : {sb}')\n",
        "print(f'Eve computed key for Bob (S2) : {seb}')"
      ],
      "metadata": {
        "id": "r68eH16duGSd"
      },
      "execution_count": null,
      "outputs": []
    }
  ]
}
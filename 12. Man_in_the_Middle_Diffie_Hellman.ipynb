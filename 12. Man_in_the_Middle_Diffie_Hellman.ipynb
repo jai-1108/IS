{
  "nbformat": 4,
  "nbformat_minor": 0,
  "metadata": {
    "colab": {
      "provenance": []
    },
    "kernelspec": {
      "name": "python3",
      "display_name": "Python 3"
    },
    "language_info": {
      "name": "python"
    }
  },
  "cells": [
    {
      "cell_type": "code",
      "execution_count": null,
      "metadata": {
        "colab": {
          "base_uri": "https://localhost:8080/"
        },
        "id": "2ieyK07ZPJWF",
        "outputId": "4234769b-279e-46d8-8e6e-933338ab5f5a"
      },
      "outputs": [
        {
          "output_type": "stream",
          "name": "stdout",
          "text": [
            "Enter a prime number : 23\n",
            "Enter a number : 5\n",
            "Alice selected (a) : 3\n",
            "Bob selected (b) : 2\n",
            "Eve selected private number for Alice (c) : 23\n",
            "Eve selected private number for Bob (d) : 16\n",
            "Alice published (ga): 10\n",
            "Bob published (gb): 2\n",
            "Eve published value for Alice (gc): 5\n",
            "Eve published value for Bob (gd): 3\n",
            "Alice computed (S1) : 10\n",
            "Eve computed key for Alice (S1) : 10\n",
            "Bob computed (S2) : 9\n",
            "Eve computed key for Bob (S2) : 9\n"
          ]
        }
      ],
      "source": [
        "import random\n",
        "\n",
        "p = int(input('Enter a prime number : '))\n",
        "g = int(input('Enter a number : '))\n",
        "\n",
        "\n",
        "class A:\n",
        "\tdef __init__(self):\n",
        "\t\tself.n = random.randint(1, p)\n",
        "\n",
        "\tdef publish(self):\n",
        "\t\treturn (g**self.n)%p\n",
        "\n",
        "\tdef compute_secret(self, gb):\n",
        "\t\treturn (gb**self.n)%p\n",
        "\n",
        "\n",
        "class B:\n",
        "\tdef __init__(self):\n",
        "\t\tself.a = random.randint(1, p)\n",
        "\t\tself.b = random.randint(1, p)\n",
        "\t\tself.arr = [self.a,self.b]\n",
        "\n",
        "\tdef publish(self, i):\n",
        "\t\treturn (g**self.arr[i])%p\n",
        "\n",
        "\tdef compute_secret(self, ga, i):\n",
        "\t\treturn (ga**self.arr[i])%p\n",
        "\n",
        "\n",
        "alice = A()\n",
        "bob = A()\n",
        "eve = B()\n",
        "\n",
        "print(f'Alice selected (a) : {alice.n}')\n",
        "print(f'Bob selected (b) : {bob.n}')\n",
        "print(f'Eve selected private number for Alice (c) : {eve.a}')\n",
        "print(f'Eve selected private number for Bob (d) : {eve.b}')\n",
        "\n",
        "ga = alice.publish()\n",
        "gb = bob.publish()\n",
        "gea = eve.publish(0)\n",
        "geb = eve.publish(1)\n",
        "print(f'Alice published (ga): {ga}')\n",
        "print(f'Bob published (gb): {gb}')\n",
        "print(f'Eve published value for Alice (gc): {gea}')\n",
        "print(f'Eve published value for Bob (gd): {geb}')\n",
        "\n",
        "sa = alice.compute_secret(gea)\n",
        "sea = eve.compute_secret(ga,0)\n",
        "sb = bob.compute_secret(geb)\n",
        "seb = eve.compute_secret(gb,1)\n",
        "print(f'Alice computed (S1) : {sa}')\n",
        "print(f'Eve computed key for Alice (S1) : {sea}')\n",
        "print(f'Bob computed (S2) : {sb}')\n",
        "print(f'Eve computed key for Bob (S2) : {seb}')"
      ]
    },
    {
      "cell_type": "code",
      "source": [],
      "metadata": {
        "id": "55Q2KpyDPVPP"
      },
      "execution_count": null,
      "outputs": []
    }
  ]
}
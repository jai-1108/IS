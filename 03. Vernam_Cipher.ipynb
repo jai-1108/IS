{
  "nbformat": 4,
  "nbformat_minor": 0,
  "metadata": {
    "colab": {
      "provenance": []
    },
    "kernelspec": {
      "name": "python3",
      "display_name": "Python 3"
    },
    "language_info": {
      "name": "python"
    }
  },
  "cells": [
    {
      "cell_type": "code",
      "execution_count": null,
      "metadata": {
        "colab": {
          "base_uri": "https://localhost:8080/"
        },
        "id": "pMP7gQcLb3xs",
        "outputId": "73bbdc6c-3d6b-45b8-bcaa-c270c0ca3716"
      },
      "outputs": [
        {
          "output_type": "stream",
          "name": "stdout",
          "text": [
            "Plaintext: Amitesh\n",
            "Key: DCHVYRC\n",
            "Ciphertext: \u0005.!\"<!+\n",
            "Decrypted Text: Amitesh\n"
          ]
        }
      ],
      "source": [
        "import random\n",
        "\n",
        "def generate_key(plaintext_length):\n",
        "\tkey = ''.join(random.choice('ABCDEFGHIJKLMNOPQRSTUVWXYZ') for _ in range(plaintext_length))\n",
        "\treturn key\n",
        "\n",
        "def encrypt(plaintext, key):\n",
        "\tciphertext = ''.join(chr(ord(p) ^ ord(k)) for p, k in zip(plaintext, key))\n",
        "\treturn ciphertext\n",
        "\n",
        "def decrypt(ciphertext, key):\n",
        "\tdecrypted_text = ''.join(chr(ord(c) ^ ord(k)) for c, k in zip(ciphertext, key))\n",
        "\treturn decrypted_text\n",
        "\n",
        "if __name__ == \"__main__\":\n",
        "\tplaintext = \"Amitesh\"\n",
        "\tkey = generate_key(len(plaintext))\n",
        "\n",
        "\tprint(\"Plaintext:\", plaintext)\n",
        "\tprint(\"Key:\", key)\n",
        "\n",
        "\tciphertext = encrypt(plaintext, key)\n",
        "\tprint(\"Ciphertext:\", ciphertext)\n",
        "\n",
        "\tdecrypted_text = decrypt(ciphertext, key)\n",
        "\tprint(\"Decrypted Text:\", decrypted_text)\n"
      ]
    },
    {
      "cell_type": "code",
      "source": [],
      "metadata": {
        "id": "qKv15OqpcC8L"
      },
      "execution_count": null,
      "outputs": []
    }
  ]
}